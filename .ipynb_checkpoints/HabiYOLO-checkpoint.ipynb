{
 "cells": [
  {
   "cell_type": "code",
   "execution_count": null,
   "id": "2fabbbca-1477-4e71-a39e-233699d5a459",
   "metadata": {},
   "outputs": [],
   "source": [
    "import cv2\n",
    "import torch\n",
    "import numpy as np\n",
    "from habitat import make_dataset"
   ]
  },
  {
   "cell_type": "code",
   "execution_count": null,
   "id": "15dfe43e-4201-4cf8-aec5-92f66511a878",
   "metadata": {},
   "outputs": [],
   "source": [
    "model = torch.hub.load('yolov5', 'yolov5s')"
   ]
  },
  {
   "cell_type": "code",
   "execution_count": null,
   "id": "7794eef5-46d3-4882-bd97-8f1609611a88",
   "metadata": {},
   "outputs": [],
   "source": [
    "dataset = make_dataset(\"your_dataset_config.yaml\")"
   ]
  }
 ],
 "metadata": {
  "kernelspec": {
   "display_name": "Python 3 (ipykernel)",
   "language": "python",
   "name": "python3"
  },
  "language_info": {
   "codemirror_mode": {
    "name": "ipython",
    "version": 3
   },
   "file_extension": ".py",
   "mimetype": "text/x-python",
   "name": "python",
   "nbconvert_exporter": "python",
   "pygments_lexer": "ipython3",
   "version": "3.10.9"
  }
 },
 "nbformat": 4,
 "nbformat_minor": 5
}
