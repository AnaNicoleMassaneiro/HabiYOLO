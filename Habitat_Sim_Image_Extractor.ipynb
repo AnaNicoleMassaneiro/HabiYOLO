{
  "nbformat": 4,
  "nbformat_minor": 0,
  "metadata": {
    "colab": {
      "provenance": [],
      "authorship_tag": "ABX9TyPuN9thQMuv7xRZ1UUJMNlk",
      "include_colab_link": true
    },
    "kernelspec": {
      "name": "python3",
      "display_name": "Python 3"
    },
    "language_info": {
      "name": "python"
    }
  },
  "cells": [
    {
      "cell_type": "markdown",
      "metadata": {
        "id": "view-in-github",
        "colab_type": "text"
      },
      "source": [
        "<a href=\"https://colab.research.google.com/github/AnaNicoleMassaneiro/HabiYOLO/blob/master/Habitat_Sim_Image_Extractor.ipynb\" target=\"_parent\"><img src=\"https://colab.research.google.com/assets/colab-badge.svg\" alt=\"Open In Colab\"/></a>"
      ]
    },
    {
      "cell_type": "code",
      "source": [
        "!pip install git+https://github.com/facebookresearch/habitat-sim.git"
      ],
      "metadata": {
        "colab": {
          "base_uri": "https://localhost:8080/"
        },
        "id": "SBNrP72b-RVR",
        "outputId": "c08c8835-3efd-4bfb-8004-c4b1ef1e9344"
      },
      "execution_count": 3,
      "outputs": [
        {
          "output_type": "stream",
          "name": "stdout",
          "text": [
            "  Building wheel for habitat-sim (pyproject.toml) ... \u001b[?25l\u001b[?25hdone\n",
            "  Created wheel for habitat-sim: filename=habitat_sim-0.2.4-cp310-cp310-linux_x86_64.whl size=173432750 sha256=4ec4ab210d4ae45ace0ce93413cef0dfc9370d188a30286211e1006fd06fc7cb\n",
            "  Stored in directory: /tmp/pip-ephem-wheel-cache-3_qiy0wj/wheels/fa/40/96/2fb97093487cbf12d507d54e3777d1e7145dbbd5e43c5416ed\n",
            "Successfully built habitat-sim\n",
            "Installing collected packages: smmap, numpy-quaternion, gitdb, gitpython, habitat-sim\n",
            "Successfully installed gitdb-4.0.10 gitpython-3.1.31 habitat-sim-0.2.4 numpy-quaternion-2022.4.3 smmap-5.0.0\n"
          ]
        }
      ]
    },
    {
      "cell_type": "code",
      "source": [
        "%%capture\n",
        "# @title Install Dependencies (if on Colab) { display-mode: \"form\" }\n",
        "# @markdown (double click to show code)\n",
        "\n",
        "import os\n",
        "\n",
        "if \"COLAB_GPU\" in os.environ:\n",
        "    print(\"Setting up Habitat\")\n",
        "    !curl -L https://raw.githubusercontent.com/facebookresearch/habitat-sim/main/examples/colab_utils/colab_install.sh | NIGHTLY=true bash -s\n",
        "    # Setup to use the hab_suite branch of Habitat Lab.\n",
        "    ! cd /content/habitat-lab && git remote set-branches origin 'hab_suite' && git fetch -v && git checkout hab_suite && cd /content/habitat-lab && python setup.py develop --all && pip install . && cd -"
      ],
      "metadata": {
        "id": "65InQ9ZXfjAi"
      },
      "execution_count": null,
      "outputs": []
    },
    {
      "cell_type": "code",
      "source": [
        "import numpy as np\n",
        "import matplotlib.pyplot as plt\n",
        "\n",
        "from habitat_sim.utils.data import ImageExtractor\n",
        "\n",
        "\n",
        "# For viewing the extractor output\n",
        "def display_sample(sample):\n",
        "    img = sample[\"rgba\"]\n",
        "    depth = sample[\"depth\"]\n",
        "    semantic = sample[\"semantic\"]\n",
        "\n",
        "    arr = [img, depth, semantic]\n",
        "    titles = [\"rgba\", \"depth\", \"semantic\"]\n",
        "    plt.figure(figsize=(12, 8))\n",
        "    for i, data in enumerate(arr):\n",
        "        ax = plt.subplot(1, 3, i + 1)\n",
        "        ax.axis(\"off\")\n",
        "        ax.set_title(titles[i])\n",
        "        plt.imshow(data)\n",
        "\n",
        "    plt.show()\n",
        "\n",
        "\n",
        "scene_filepath = \"/Users/ananicole/Documents/habitat-matterport3d-dataset/data/scene_datasets/habitat-test-scenes/apartment_1.glb\"\n",
        "\n",
        "extractor = ImageExtractor(\n",
        "    scene_filepath,\n",
        "    img_size=(512, 512),\n",
        "    output=[\"rgba\", \"depth\", \"semantic\"],\n",
        ")\n",
        "\n",
        "# Use the list of train outputs instead of the default, which is the full list\n",
        "# of outputs (test + train)\n",
        "extractor.set_mode('train')\n",
        "\n",
        "# Index in to the extractor like a normal python list\n",
        "sample = extractor[0]\n",
        "\n",
        "# Or use slicing\n",
        "samples = extractor[1:4]\n",
        "for sample in samples:\n",
        "    display_sample(sample)\n",
        "\n",
        "# Close the extractor so we can instantiate another one later\n",
        "# (see close method for detailed explanation)\n",
        "extractor.close()"
      ],
      "metadata": {
        "id": "t0enAOSC-rtJ"
      },
      "execution_count": null,
      "outputs": []
    }
  ]
}